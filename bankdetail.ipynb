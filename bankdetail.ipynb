{
 "cells": [
  {
   "cell_type": "code",
   "execution_count": null,
   "id": "37041f53-d42e-4aab-8321-35b7345cafc7",
   "metadata": {},
   "outputs": [
    {
     "name": "stdout",
     "output_type": "stream",
     "text": [
      "1. Check balance\n",
      "2. Deposit money\n",
      "3. Withdraw money\n",
      "4. Exit the system\n"
     ]
    },
    {
     "name": "stdin",
     "output_type": "stream",
     "text": [
      "Enter your choice:  2\n",
      "Enter deposit amount:  2000\n"
     ]
    },
    {
     "name": "stdout",
     "output_type": "stream",
     "text": [
      "Deposit successful! Your new balance is: $12000\n",
      "1. Check balance\n",
      "2. Deposit money\n",
      "3. Withdraw money\n",
      "4. Exit the system\n"
     ]
    },
    {
     "name": "stdin",
     "output_type": "stream",
     "text": [
      "Enter your choice:  5\n"
     ]
    },
    {
     "name": "stdout",
     "output_type": "stream",
     "text": [
      "Invalid choice. Please try again.\n",
      "1. Check balance\n",
      "2. Deposit money\n",
      "3. Withdraw money\n",
      "4. Exit the system\n"
     ]
    }
   ],
   "source": [
    "balance = 10000\n",
    "\n",
    "while True:\n",
    "    print(\"1. Check balance\")\n",
    "    print(\"2. Deposit money\")\n",
    "    print(\"3. Withdraw money\")\n",
    "    print(\"4. Exit the system\")\n",
    "    \n",
    "    choice = int(input(\"Enter your choice: \"))\n",
    "    \n",
    "    if choice == 1:\n",
    "        print(f\"Your current balance is: ${balance}\")\n",
    "    elif choice == 2:\n",
    "        deposit_money = int(input(\"Enter deposit amount: \"))\n",
    "        balance += deposit_money\n",
    "        print(f\"Deposit successful! Your new balance is: ${balance}\")\n",
    "    elif choice == 3:\n",
    "        withdraw_money = int(input(\"Enter withdrawal amount: \"))\n",
    "        if withdraw_money > balance:\n",
    "            print(\"Insufficient balance!\")\n",
    "        else:\n",
    "            balance -= withdraw_money\n",
    "            print(f\"Withdrawal successful! Your new balance is: ${balance}\")\n",
    "    elif choice == 4:\n",
    "        print(\"Exiting the system. Thank you!\")\n",
    "        break\n",
    "    else:\n",
    "        print(\"Invalid choice. Please try again.\")\n",
    "\n",
    "\n"
   ]
  },
  {
   "cell_type": "code",
   "execution_count": null,
   "id": "27737765-635d-45fa-825d-e72d4aad34e6",
   "metadata": {},
   "outputs": [],
   "source": []
  }
 ],
 "metadata": {
  "kernelspec": {
   "display_name": "anaconda-panel-2023.05-py310",
   "language": "python",
   "name": "conda-env-anaconda-panel-2023.05-py310-py"
  },
  "language_info": {
   "codemirror_mode": {
    "name": "ipython",
    "version": 3
   },
   "file_extension": ".py",
   "mimetype": "text/x-python",
   "name": "python",
   "nbconvert_exporter": "python",
   "pygments_lexer": "ipython3",
   "version": "3.11.5"
  }
 },
 "nbformat": 4,
 "nbformat_minor": 5
}
