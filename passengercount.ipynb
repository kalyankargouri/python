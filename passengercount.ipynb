{
 "cells": [
  {
   "cell_type": "code",
   "execution_count": 1,
   "id": "56ab8884-2edf-4faa-a319-af86e30d4e83",
   "metadata": {},
   "outputs": [
    {
     "name": "stdin",
     "output_type": "stream",
     "text": [
      "Enter the number of passengers at stop 1:  2\n",
      "Enter the number of passengers at stop 2:  3\n",
      "Enter the number of passengers at stop 3:  5\n",
      "Enter the number of passengers at stop 4:  1\n",
      "Enter the number of passengers at stop 5:  1\n"
     ]
    },
    {
     "name": "stdout",
     "output_type": "stream",
     "text": [
      "Total passengers in the bus: 12\n"
     ]
    }
   ],
   "source": [
    "\n",
    "total_passengers = 0\n",
    "for stop in range(1, 6):\n",
    "    passengers = int(input(f\"Enter the number of passengers at stop {stop}: \"))\n",
    "    if passengers >= 0:\n",
    "        total_passengers += passengers\n",
    "    else:\n",
    "        print(\"Invalid input! Passengers cannot be negative.\")\n",
    "        break \n",
    "print(f\"Total passengers in the bus: {total_passengers}\")"
   ]
  },
  {
   "cell_type": "code",
   "execution_count": null,
   "id": "8ea4ae67-a433-416d-a434-1cd34a5463f9",
   "metadata": {},
   "outputs": [],
   "source": []
  }
 ],
 "metadata": {
  "kernelspec": {
   "display_name": "anaconda-panel-2023.05-py310",
   "language": "python",
   "name": "conda-env-anaconda-panel-2023.05-py310-py"
  },
  "language_info": {
   "codemirror_mode": {
    "name": "ipython",
    "version": 3
   },
   "file_extension": ".py",
   "mimetype": "text/x-python",
   "name": "python",
   "nbconvert_exporter": "python",
   "pygments_lexer": "ipython3",
   "version": "3.11.5"
  }
 },
 "nbformat": 4,
 "nbformat_minor": 5
}
