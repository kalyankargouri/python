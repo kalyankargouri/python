{
 "cells": [
  {
   "cell_type": "code",
   "execution_count": 10,
   "id": "67f8cf22-45cf-4665-b743-8225686f7005",
   "metadata": {},
   "outputs": [
    {
     "name": "stdout",
     "output_type": "stream",
     "text": [
      "enter salary 40000\n"
     ]
    },
    {
     "name": "stdout",
     "output_type": "stream",
     "text": [
      "Medium income\n"
     ]
    }
   ],
   "source": [
    "salary=int(input(\"enter salary\"))\n",
    "if salary>50000:\n",
    "    print(\"High income\")\n",
    "elif salary>=30000 and salary<=50000:\n",
    "    print(\"Medium income\")\n",
    "else:\n",
    "    print(\"Low income\")\n",
    "\n"
   ]
  },
  {
   "cell_type": "code",
   "execution_count": 17,
   "id": "d4876fd6-41d2-4998-b30c-29ae948714c6",
   "metadata": {},
   "outputs": [
    {
     "name": "stdout",
     "output_type": "stream",
     "text": [
      "enter streetlight number 1\n"
     ]
    },
    {
     "name": "stdout",
     "output_type": "stream",
     "text": [
      "OFF\n"
     ]
    }
   ],
   "source": [
    "streetlight_no=int(input(\"enter streetlight number\"))\n",
    "if streetlight_no % 2==0:\n",
    "    print(\"ON\")\n",
    "else:\n",
    "    print(\"OFF\")\n"
   ]
  },
  {
   "cell_type": "code",
   "execution_count": null,
   "id": "20602dd9-9e88-48bd-b21d-0aeb4e15d5a6",
   "metadata": {},
   "outputs": [],
   "source": []
  },
  {
   "cell_type": "code",
   "execution_count": null,
   "id": "e640a838-4ee5-4922-9f31-99f5d3198645",
   "metadata": {},
   "outputs": [],
   "source": [
    "balance=10000\n",
    "print(\"1.check balance\")\n",
    "print(\"2.deposite money\")\n",
    "print"
   ]
  },
  {
   "cell_type": "code",
   "execution_count": null,
   "id": "4f94adfc-d26c-4317-876b-4e2d714f9991",
   "metadata": {},
   "outputs": [],
   "source": []
  }
 ],
 "metadata": {
  "kernelspec": {
   "display_name": "anaconda-panel-2023.05-py310",
   "language": "python",
   "name": "conda-env-anaconda-panel-2023.05-py310-py"
  },
  "language_info": {
   "codemirror_mode": {
    "name": "ipython",
    "version": 3
   },
   "file_extension": ".py",
   "mimetype": "text/x-python",
   "name": "python",
   "nbconvert_exporter": "python",
   "pygments_lexer": "ipython3",
   "version": "3.11.5"
  }
 },
 "nbformat": 4,
 "nbformat_minor": 5
}
