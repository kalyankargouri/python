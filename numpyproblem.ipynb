{
  "nbformat": 4,
  "nbformat_minor": 0,
  "metadata": {
    "colab": {
      "provenance": [],
      "toc_visible": true,
      "authorship_tag": "ABX9TyNkxlChuiXqAANevxnTAb9M",
      "include_colab_link": true
    },
    "kernelspec": {
      "name": "python3",
      "display_name": "Python 3"
    },
    "language_info": {
      "name": "python"
    }
  },
  "cells": [
    {
      "cell_type": "markdown",
      "metadata": {
        "id": "view-in-github",
        "colab_type": "text"
      },
      "source": [
        "<a href=\"https://colab.research.google.com/github/kalyankargouri/python/blob/main/numpyproblem.ipynb\" target=\"_parent\"><img src=\"https://colab.research.google.com/assets/colab-badge.svg\" alt=\"Open In Colab\"/></a>"
      ]
    },
    {
      "cell_type": "code",
      "execution_count": null,
      "metadata": {
        "colab": {
          "base_uri": "https://localhost:8080/"
        },
        "id": "V718la2mtlnG",
        "outputId": "dc3556d2-d1f2-4d68-dcb0-c62db0ca52d7"
      },
      "outputs": [
        {
          "output_type": "stream",
          "name": "stdout",
          "text": [
            "highest sales: 9000\n",
            "lowest sales: 5000\n"
          ]
        }
      ],
      "source": [
        "sales=[5000,7000,8000,6500,7200,9000,8500]\n",
        "highest_sales=max(sales)\n",
        "lowest_sales=min(sales)\n",
        "print(\"highest sales:\",highest_sales)\n",
        "print(\"lowest sales:\",lowest_sales)"
      ]
    },
    {
      "cell_type": "code",
      "source": [
        "import numpy as np\n",
        "sales = np.array([1000, 1200, 1500, 1800, 2000, 2100, 2500, 2700])\n",
        "sales_2d = sales.reshape(4, 2)\n",
        "print(\"Reshaped Sales Data (4x2):\")\n",
        "print(sales_2d)"
      ],
      "metadata": {
        "id": "4LJvSUhPvlF0",
        "colab": {
          "base_uri": "https://localhost:8080/"
        },
        "outputId": "d4328502-b371-4334-c804-d257153e6e2c"
      },
      "execution_count": 1,
      "outputs": [
        {
          "output_type": "stream",
          "name": "stdout",
          "text": [
            "Reshaped Sales Data (4x2):\n",
            "[[1000 1200]\n",
            " [1500 1800]\n",
            " [2000 2100]\n",
            " [2500 2700]]\n"
          ]
        }
      ]
    },
    {
      "cell_type": "markdown",
      "source": [
        "# New Section"
      ],
      "metadata": {
        "id": "4qUbWb388rKk"
      }
    },
    {
      "cell_type": "code",
      "source": [
        "marks=np.array([35,60,42,75,29,90,55])\n",
        "passed_marks=marks[marks>=40]\n",
        "print(\"passed marks\",passed_marks)\n",
        "\n"
      ],
      "metadata": {
        "colab": {
          "base_uri": "https://localhost:8080/"
        },
        "id": "Ogz_sA6d28SQ",
        "outputId": "16789c94-a40d-4ade-93c8-363aab1d7afd"
      },
      "execution_count": 2,
      "outputs": [
        {
          "output_type": "stream",
          "name": "stdout",
          "text": [
            "passed marks [60 42 75 90 55]\n"
          ]
        }
      ]
    },
    {
      "cell_type": "code",
      "source": [
        "qantities=np.array([10,15,7,20])\n",
        "prices=np.array([50,40,100,30])\n",
        "total_revenue=np.sum(qantities*prices)\n",
        "print(\"total revenue\",total_revenue)"
      ],
      "metadata": {
        "colab": {
          "base_uri": "https://localhost:8080/"
        },
        "id": "zrVR5qgG4RIo",
        "outputId": "2bc6d7d3-97b3-487e-d205-9f289df4f94a"
      },
      "execution_count": 3,
      "outputs": [
        {
          "output_type": "stream",
          "name": "stdout",
          "text": [
            "total revenue 2400\n"
          ]
        }
      ]
    },
    {
      "cell_type": "code",
      "source": [
        "import numpy as np\n",
        "arr=np.array([1,2,2,3,3,4,4,4,4])\n",
        "most_frequent_value=np.bincount(arr).argmax()\n",
        "print(\"most frequent value\",most_frequent_value)\n",
        "\n"
      ],
      "metadata": {
        "colab": {
          "base_uri": "https://localhost:8080/"
        },
        "id": "dEZYq9Ur5bYY",
        "outputId": "fb171724-7da6-4623-d096-085805687cad"
      },
      "execution_count": 7,
      "outputs": [
        {
          "output_type": "stream",
          "name": "stdout",
          "text": [
            "most frequent value 4\n"
          ]
        }
      ]
    },
    {
      "cell_type": "code",
      "source": [
        "import numpy as np\n",
        "scores=np.array([50,80,90,60,75,85])\n",
        "normalized_scores=(scores-np.min(scores))/(np.max(scores)-np.min(scores))\n",
        "print(\"normalized scores\",normalized_scores)"
      ],
      "metadata": {
        "colab": {
          "base_uri": "https://localhost:8080/"
        },
        "id": "pQs6x9WA6eQW",
        "outputId": "01f295e8-aaa2-4666-b28f-e2bf69bd6a2c"
      },
      "execution_count": 8,
      "outputs": [
        {
          "output_type": "stream",
          "name": "stdout",
          "text": [
            "normalized scores [0.    0.75  1.    0.25  0.625 0.875]\n"
          ]
        }
      ]
    }
  ]
}