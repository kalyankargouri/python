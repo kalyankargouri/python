{
 "cells": [
  {
   "cell_type": "code",
   "execution_count": null,
   "id": "5bac94a9-32b9-4cc1-b1f9-63d6ec8202af",
   "metadata": {},
   "outputs": [],
   "source": [
    "streetlight_no=int(input(\"enter streetlight number\"))\n",
    "if streetlight_no % 2==0:\n",
    "    print(\"ON\")\n",
    "else:\n",
    "    print(\"OFF\")\n"
   ]
  }
 ],
 "metadata": {
  "kernelspec": {
   "display_name": "anaconda-panel-2023.05-py310",
   "language": "python",
   "name": "conda-env-anaconda-panel-2023.05-py310-py"
  },
  "language_info": {
   "codemirror_mode": {
    "name": "ipython",
    "version": 3
   },
   "file_extension": ".py",
   "mimetype": "text/x-python",
   "name": "python",
   "nbconvert_exporter": "python",
   "pygments_lexer": "ipython3",
   "version": "3.11.5"
  }
 },
 "nbformat": 4,
 "nbformat_minor": 5
}
